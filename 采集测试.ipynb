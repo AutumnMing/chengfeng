{
 "cells": [
  {
   "cell_type": "code",
   "execution_count": 39,
   "metadata": {
    "collapsed": true
   },
   "outputs": [],
   "source": [
    "import requests\n",
    "import json\n",
    "from urllib.parse import urlencode\n",
    "from operate_data import create_csv, add_dict_rows\n",
    "from time import localtime, gmtime, strftime, time_ns, time"
   ]
  },
  {
   "cell_type": "markdown",
   "source": [
    "#### 参数引入"
   ],
   "metadata": {
    "collapsed": false
   }
  },
  {
   "cell_type": "code",
   "execution_count": 13,
   "outputs": [],
   "source": [
    "with open('./config/chengfeng.json') as f:\n",
    "    cf = json.load(f)"
   ],
   "metadata": {
    "collapsed": false
   }
  },
  {
   "cell_type": "markdown",
   "source": [
    "#### 时间测试"
   ],
   "metadata": {
    "collapsed": false
   }
  },
  {
   "cell_type": "code",
   "execution_count": 25,
   "outputs": [
    {
     "data": {
      "text/plain": "time.struct_time(tm_year=2023, tm_mon=5, tm_mday=15, tm_hour=15, tm_min=34, tm_sec=43, tm_wday=0, tm_yday=135, tm_isdst=0)"
     },
     "execution_count": 25,
     "metadata": {},
     "output_type": "execute_result"
    }
   ],
   "source": [
    "localtime()"
   ],
   "metadata": {
    "collapsed": false
   }
  },
  {
   "cell_type": "code",
   "execution_count": 26,
   "outputs": [
    {
     "data": {
      "text/plain": "'Mon, 15 May 2023 07:34:47 +0000'"
     },
     "execution_count": 26,
     "metadata": {},
     "output_type": "execute_result"
    }
   ],
   "source": [
    "strftime(\"%a, %d %b %Y %H:%M:%S +0000\", )"
   ],
   "metadata": {
    "collapsed": false
   }
  },
  {
   "cell_type": "code",
   "execution_count": 37,
   "outputs": [
    {
     "data": {
      "text/plain": "'202305151603'"
     },
     "execution_count": 37,
     "metadata": {},
     "output_type": "execute_result"
    }
   ],
   "source": [
    "#记录采集时间\n",
    "strftime(\"%Y%m%d%H%M\", localtime())"
   ],
   "metadata": {
    "collapsed": false
   }
  },
  {
   "cell_type": "code",
   "execution_count": 44,
   "outputs": [
    {
     "name": "stdout",
     "output_type": "stream",
     "text": [
      "纳秒数:  202305151605\n",
      "转换格式:  202305151605\n"
     ]
    }
   ],
   "source": [
    "# 记录纳秒时间\n",
    "print('纳秒数: ', strftime(\"%Y%m%d%H%M\", localtime()))\n",
    "print('转换格式: ', strftime(\"%Y%m%d%H%M\", localtime(time())))"
   ],
   "metadata": {
    "collapsed": false
   }
  },
  {
   "cell_type": "code",
   "execution_count": 15,
   "outputs": [
    {
     "name": "stdout",
     "output_type": "stream",
     "text": [
      "{'ret': 0, 'errno': 0, 'data': {'character_list': [{'char_id': 2586, 'char_name': '美依礼芽', 'photo': 'https://vipcdn.mgtv.com/lego/20230511/lego/eb7d5fecefd911ed956600163e323d80.png', 'icon': '', 'fans_num': 0, 'vote_num': 69686095, 'position': 23, 'video_url': '', 'video_img': 'https://vipcdn.mgtv.com/lego/20230511/lego/e97df0a8efd911edbb3700163e030d98.png', 'share_img': 'https://vipcdn.mgtv.com/lego/20230511/lego/ed836264efd911edbb3700163e030d98.png', 'description': '', 'note': '', 'info': '1', 'is_vote': 1, 'user_vote_num': 231}, {'char_id': 2570, 'char_name': '谢娜', 'photo': 'https://vipcdn.mgtv.com/lego/20230511/lego/66fe80c0efd911ed8d2c00163e030d98.png', 'icon': '', 'fans_num': 0, 'vote_num': 11620445, 'position': 8, 'video_url': '', 'video_img': 'https://vipcdn.mgtv.com/lego/20230511/lego/641c89baefd911ed8d2c00163e030d98.png', 'share_img': 'https://vipcdn.mgtv.com/lego/20230511/lego/699bb794efd911edb42300163e323d80.png', 'description': '', 'note': '', 'info': '1', 'is_vote': 0, 'user_vote_num': 0}, {'char_id': 2569, 'char_name': '徐怀钰', 'photo': 'https://vipcdn.mgtv.com/lego/20230511/lego/505747e4efd911ed87a500163e323d80.png', 'icon': '', 'fans_num': 0, 'vote_num': 9905087, 'position': 6, 'video_url': '', 'video_img': 'https://vipcdn.mgtv.com/lego/20230511/lego/4e1c08deefd911edb11200163e030d98.png', 'share_img': 'https://vipcdn.mgtv.com/lego/20230511/lego/52c54e68efd911edb11200163e030d98.png', 'description': '', 'note': '', 'info': '1', 'is_vote': 0, 'user_vote_num': 0}, {'char_id': 2572, 'char_name': 'Ella陈嘉桦', 'photo': 'https://vipcdn.mgtv.com/lego/20230511/lego/6ea77cc8efd911edb42300163e323d80.png', 'icon': '', 'fans_num': 0, 'vote_num': 7953921, 'position': 9, 'video_url': '', 'video_img': 'https://vipcdn.mgtv.com/lego/20230511/lego/6cb9e3c4efd911ed8d2c00163e030d98.png', 'share_img': 'https://vipcdn.mgtv.com/lego/20230511/lego/70f53498efd911edb27b00163e030d98.png', 'description': '', 'note': '', 'info': '1', 'is_vote': 0, 'user_vote_num': 0}, {'char_id': 2580, 'char_name': '刘惜君', 'photo': 'https://vipcdn.mgtv.com/lego/20230511/lego/bde5ec16efd911ed808800163e323d80.png', 'icon': '', 'fans_num': 0, 'vote_num': 6170603, 'position': 17, 'video_url': '', 'video_img': 'https://vipcdn.mgtv.com/lego/20230511/lego/bc12a8c0efd911edb74f00163e030d98.png', 'share_img': 'https://vipcdn.mgtv.com/lego/20230511/lego/bfa4b294efd911edb74f00163e030d98.png', 'description': '', 'note': '', 'info': '1', 'is_vote': 0, 'user_vote_num': 0}, {'char_id': 2587, 'char_name': 'Amber刘逸云', 'photo': 'https://vipcdn.mgtv.com/lego/20230511/lego/f4cbd6d2efd911edbb3700163e030d98.png', 'icon': '', 'fans_num': 0, 'vote_num': 5064739, 'position': 24, 'video_url': '', 'video_img': 'https://vipcdn.mgtv.com/lego/20230511/lego/f25d3828efd911ed956600163e323d80.png', 'share_img': 'https://vipcdn.mgtv.com/lego/20230511/lego/f7cee720efd911ed956600163e323d80.png', 'description': '', 'note': '', 'info': '1', 'is_vote': 0, 'user_vote_num': 0}, {'char_id': 2568, 'char_name': '龚琳娜', 'photo': 'https://vipcdn.mgtv.com/lego/20230511/lego/44a117a4efd911edb11200163e030d98.png', 'icon': '', 'fans_num': 0, 'vote_num': 4459182, 'position': 5, 'video_url': '', 'video_img': 'https://vipcdn.mgtv.com/lego/20230511/lego/42891ce6efd911ed87a500163e323d80.png', 'share_img': 'https://vipcdn.mgtv.com/lego/20230511/lego/46843eacefd911ed87a500163e323d80.png', 'description': '', 'note': '', 'info': '1', 'is_vote': 0, 'user_vote_num': 0}, {'char_id': 2598, 'char_name': '曾可妮', 'photo': 'https://vipcdn.mgtv.com/lego/20230511/lego/1ea1fcd4efda11ed935d00163e323d80.png', 'icon': '', 'fans_num': 0, 'vote_num': 4227173, 'position': 30, 'video_url': '', 'video_img': 'https://vipcdn.mgtv.com/lego/20230511/lego/1c3d0042efda11eda1c700163e030d98.png', 'share_img': 'https://vipcdn.mgtv.com/lego/20230511/lego/20fd9d3aefda11eda1c700163e030d98.png', 'description': '', 'note': '', 'info': '1', 'is_vote': 0, 'user_vote_num': 0}, {'char_id': 2571, 'char_name': '秋瓷炫', 'photo': 'https://vipcdn.mgtv.com/lego/20230511/lego/5b3763a6efd911ed8d2c00163e030d98.png', 'icon': '', 'fans_num': 0, 'vote_num': 4183319, 'position': 7, 'video_url': '', 'video_img': 'https://vipcdn.mgtv.com/lego/20230511/lego/5943c88cefd911edb42300163e323d80.png', 'share_img': 'https://vipcdn.mgtv.com/lego/20230511/lego/5cecb07aefd911edb42300163e323d80.png', 'description': '', 'note': '', 'info': '1', 'is_vote': 0, 'user_vote_num': 0}, {'char_id': 2601, 'char_name': '吉娜·爱丽丝', 'photo': 'https://vipcdn.mgtv.com/lego/20230511/lego/3c90dc74efda11ed935d00163e323d80.png', 'icon': '', 'fans_num': 0, 'vote_num': 3169576, 'position': 33, 'video_url': '', 'video_img': 'https://vipcdn.mgtv.com/lego/20230511/lego/3aec022cefda11ed8c7400163e030d98.png', 'share_img': 'https://vipcdn.mgtv.com/lego/20230511/lego/3e53078aefda11ed8c7400163e030d98.png', 'description': '', 'note': '', 'info': '1', 'is_vote': 0, 'user_vote_num': 0}, {'char_id': 2583, 'char_name': '陈冰', 'photo': 'https://vipcdn.mgtv.com/lego/20230511/lego/db3c5a0cefd911eda3c400163e323d80.png', 'icon': '', 'fans_num': 0, 'vote_num': 2639766, 'position': 20, 'video_url': '', 'video_img': 'https://vipcdn.mgtv.com/lego/20230511/lego/d93f2aeaefd911ed8f3000163e030d98.png', 'share_img': 'https://vipcdn.mgtv.com/lego/20230511/lego/dd18421eefd911ed8f3000163e030d98.png', 'description': '', 'note': '', 'info': '1', 'is_vote': 0, 'user_vote_num': 0}, {'char_id': 2582, 'char_name': '凯丽', 'photo': 'https://vipcdn.mgtv.com/lego/20230511/lego/d30f931cefd911ed8f3000163e030d98.png', 'icon': '', 'fans_num': 0, 'vote_num': 2620292, 'position': 19, 'video_url': '', 'video_img': 'https://vipcdn.mgtv.com/lego/20230511/lego/d0baa728efd911edb4e300163e323d80.png', 'share_img': 'https://vipcdn.mgtv.com/lego/20230511/lego/d4e673f4efd911eda3c400163e323d80.png', 'description': '', 'note': '', 'info': '1', 'is_vote': 0, 'user_vote_num': 0}, {'char_id': 2564, 'char_name': '孙悦', 'photo': 'https://vipcdn.mgtv.com/lego/20230511/lego/33cd272eefd911ed8f3b00163e030d98.png', 'icon': '', 'fans_num': 0, 'vote_num': 2357175, 'position': 2, 'video_url': '', 'video_img': 'https://vipcdn.mgtv.com/lego/20230511/lego/2a2fa494efd911ed944c00163e323d80.png', 'share_img': 'https://vipcdn.mgtv.com/lego/20230511/lego/3798eb40efd911ed87a500163e323d80.png', 'description': '', 'note': '', 'info': '1', 'is_vote': 0, 'user_vote_num': 0}, {'char_id': 2573, 'char_name': '陈意涵', 'photo': 'https://vipcdn.mgtv.com/lego/20230511/lego/7a2be80eefd911edb27b00163e030d98.png', 'icon': '', 'fans_num': 0, 'vote_num': 2111012, 'position': 10, 'video_url': '', 'video_img': 'https://vipcdn.mgtv.com/lego/20230511/lego/781427d4efd911ed9bd800163e323d80.png', 'share_img': 'https://vipcdn.mgtv.com/lego/20230511/lego/7c4241f6efd911ed9bd800163e323d80.png', 'description': '', 'note': '', 'info': '1', 'is_vote': 0, 'user_vote_num': 0}, {'char_id': 2579, 'char_name': '张嘉倪', 'photo': 'https://vipcdn.mgtv.com/lego/20230511/lego/b192baf2efd911edb74f00163e030d98.png', 'icon': '', 'fans_num': 0, 'vote_num': 1791018, 'position': 16, 'video_url': '', 'video_img': 'https://vipcdn.mgtv.com/lego/20230511/lego/af88e2aeefd911edb4e300163e323d80.png', 'share_img': 'https://vipcdn.mgtv.com/lego/20230511/lego/b3d5fad6efd911ed808800163e323d80.png', 'description': '', 'note': '', 'info': '1', 'is_vote': 0, 'user_vote_num': 0}, {'char_id': 2585, 'char_name': '赵丽娜', 'photo': 'https://vipcdn.mgtv.com/lego/20230513/lego/f387c110f1a411edb48900163e030d98.png', 'icon': '', 'fans_num': 0, 'vote_num': 1645335, 'position': 22, 'video_url': '', 'video_img': 'https://vipcdn.mgtv.com/lego/20230513/lego/f0778e74f1a411ed889a00163e323d80.png', 'share_img': 'https://vipcdn.mgtv.com/lego/20230513/lego/f5d89ff2f1a411ed889a00163e323d80.png', 'description': '', 'note': '', 'info': '1', 'is_vote': 0, 'user_vote_num': 0}, {'char_id': 2595, 'char_name': '王佳宇', 'photo': 'https://vipcdn.mgtv.com/lego/20230511/lego/0bf9b6f8efda11ed8c7400163e030d98.png', 'icon': '', 'fans_num': 0, 'vote_num': 1637245, 'position': 27, 'video_url': '', 'video_img': 'https://vipcdn.mgtv.com/lego/20230511/lego/0977210eefda11edb4e300163e323d80.png', 'share_img': 'https://vipcdn.mgtv.com/lego/20230511/lego/0e425d20efda11ed935d00163e323d80.png', 'description': '', 'note': '', 'info': '1', 'is_vote': 0, 'user_vote_num': 0}, {'char_id': 2596, 'char_name': '吴优', 'photo': 'https://vipcdn.mgtv.com/lego/20230511/lego/3392685eefda11ed8c7400163e030d98.png', 'icon': '', 'fans_num': 0, 'vote_num': 1610260, 'position': 28, 'video_url': '', 'video_img': 'https://vipcdn.mgtv.com/lego/20230511/lego/2a613f26efda11ed923800163e323d80.png', 'share_img': 'https://vipcdn.mgtv.com/lego/20230511/lego/36572912efda11ed923800163e323d80.png', 'description': '', 'note': '', 'info': '1', 'is_vote': 0, 'user_vote_num': 0}, {'char_id': 2574, 'char_name': 'A-Lin黄丽玲', 'photo': 'https://vipcdn.mgtv.com/lego/20230511/lego/883113c0efd911ed846400163e030d98.png', 'icon': '', 'fans_num': 0, 'vote_num': 1459672, 'position': 11, 'video_url': '', 'video_img': 'https://vipcdn.mgtv.com/lego/20230511/lego/8626d2ccefd911ed9bd800163e323d80.png', 'share_img': 'https://vipcdn.mgtv.com/lego/20230511/lego/8a09e744efd911ed963b00163e323d80.png', 'description': '', 'note': '', 'info': '1', 'is_vote': 0, 'user_vote_num': 0}, {'char_id': 2576, 'char_name': '朱珠', 'photo': 'https://vipcdn.mgtv.com/lego/20230511/lego/9a280d68efd911ed820900163e323d80.png', 'icon': '', 'fans_num': 0, 'vote_num': 1356819, 'position': 13, 'video_url': '', 'video_img': 'https://vipcdn.mgtv.com/lego/20230511/lego/9830a416efd911ed846400163e030d98.png', 'share_img': 'https://vipcdn.mgtv.com/lego/20230511/lego/9c126f74efd911ed846400163e030d98.png', 'description': '', 'note': '', 'info': '1', 'is_vote': 0, 'user_vote_num': 0}, {'char_id': 2600, 'char_name': '李莎旻子', 'photo': 'https://vipcdn.mgtv.com/lego/20230514/lego/0155afeef26a11edb15d00163e323d80.png', 'icon': '', 'fans_num': 0, 'vote_num': 1291730, 'position': 32, 'video_url': '', 'video_img': 'https://vipcdn.mgtv.com/lego/20230514/lego/fd672f7af26911edbfff00163e030d98.png', 'share_img': 'https://vipcdn.mgtv.com/lego/20230514/lego/0af83b3ef26a11edbfff00163e030d98.png', 'description': '', 'note': '', 'info': '1', 'is_vote': 0, 'user_vote_num': 0}, {'char_id': 2563, 'char_name': '瞿颖', 'photo': 'https://vipcdn.mgtv.com/lego/20230514/lego/84fd10fef20f11ed87b400163e030d98.png', 'icon': '', 'fans_num': 0, 'vote_num': 1250676, 'position': 1, 'video_url': '', 'video_img': 'https://vipcdn.mgtv.com/lego/20230514/lego/82c74160f20f11edb75c00163e323d80.png', 'share_img': 'https://vipcdn.mgtv.com/lego/20230514/lego/86e5c848f20f11ed964b00163e323d80.png', 'description': '', 'note': '', 'info': '1', 'is_vote': 0, 'user_vote_num': 0}, {'char_id': 2599, 'char_name': 'Chi Pu芝芙', 'photo': 'https://vipcdn.mgtv.com/lego/20230513/lego/dfb070b8f13d11edb24200163e323d80.png', 'icon': '', 'fans_num': 0, 'vote_num': 1228309, 'position': 31, 'video_url': '', 'video_img': 'https://vipcdn.mgtv.com/lego/20230513/lego/dc0ca71af13d11ed9d9800163e030d98.png', 'share_img': 'https://vipcdn.mgtv.com/lego/20230513/lego/e20086dcf13d11ed9d9800163e030d98.png', 'description': '', 'note': '', 'info': '1', 'is_vote': 0, 'user_vote_num': 0}, {'char_id': 2593, 'char_name': '吴倩', 'photo': 'https://vipcdn.mgtv.com/lego/20230513/lego/7e7303f6f12e11ed9f9200163e323d80.png', 'icon': '', 'fans_num': 0, 'vote_num': 1185951, 'position': 25, 'video_url': '', 'video_img': 'https://vipcdn.mgtv.com/lego/20230513/lego/7b2e5394f12e11ed977a00163e030d98.png', 'share_img': 'https://vipcdn.mgtv.com/lego/20230513/lego/80c46e06f12e11ed977a00163e030d98.png', 'description': '', 'note': '', 'info': '1', 'is_vote': 0, 'user_vote_num': 0}, {'char_id': 2594, 'char_name': '汪小敏', 'photo': 'https://vipcdn.mgtv.com/lego/20230511/lego/02710668efda11ed956600163e323d80.png', 'icon': '', 'fans_num': 0, 'vote_num': 1180347, 'position': 26, 'video_url': '', 'video_img': 'https://vipcdn.mgtv.com/lego/20230511/lego/0026f390efda11edbb3700163e030d98.png', 'share_img': 'https://vipcdn.mgtv.com/lego/20230511/lego/04882940efda11edbb3700163e030d98.png', 'description': '', 'note': '', 'info': '1', 'is_vote': 0, 'user_vote_num': 0}, {'char_id': 2562, 'char_name': '贾静雯', 'photo': 'https://vipcdn.mgtv.com/lego/20230514/lego/f84eba12f22d11ed8f4100163e323d80.png', 'icon': '', 'fans_num': 0, 'vote_num': 1169568, 'position': 4, 'video_url': '', 'video_img': 'https://vipcdn.mgtv.com/lego/20230514/lego/f5edd546f22d11ed924100163e030d98.png', 'share_img': 'https://vipcdn.mgtv.com/lego/20230514/lego/faf987d8f22d11ed9e3400163e030d98.png', 'description': '', 'note': '', 'info': '1', 'is_vote': 0, 'user_vote_num': 0}, {'char_id': 2561, 'char_name': '蔡少芬', 'photo': 'https://vipcdn.mgtv.com/lego/20230513/lego/d79d6446f1a411ed992f00163e030d98.png', 'icon': '', 'fans_num': 0, 'vote_num': 1145208, 'position': 3, 'video_url': '', 'video_img': 'https://vipcdn.mgtv.com/lego/20230513/lego/d4f90164f1a411ed8e8500163e323d80.png', 'share_img': 'https://vipcdn.mgtv.com/lego/20230513/lego/d95ccb6ef1a411ed8e8500163e323d80.png', 'description': '', 'note': '', 'info': '1', 'is_vote': 0, 'user_vote_num': 0}, {'char_id': 2578, 'char_name': '谢欣', 'photo': 'https://vipcdn.mgtv.com/lego/20230513/lego/e276d14af1a411ed8e8500163e323d80.png', 'icon': '', 'fans_num': 0, 'vote_num': 1071861, 'position': 15, 'video_url': '', 'video_img': 'https://vipcdn.mgtv.com/lego/20230513/lego/dfa94db2f1a411edb48900163e030d98.png', 'share_img': 'https://vipcdn.mgtv.com/lego/20230513/lego/e691bd94f1a411edb48900163e030d98.png', 'description': '', 'note': '', 'info': '1', 'is_vote': 0, 'user_vote_num': 0}, {'char_id': 2584, 'char_name': '唐伯虎', 'photo': 'https://vipcdn.mgtv.com/lego/20230425/lego/63956230e34211ed90ec00163e030d98.png', 'icon': '', 'fans_num': 0, 'vote_num': 807964, 'position': 21, 'video_url': '', 'video_img': 'https://vipcdn.mgtv.com/lego/20230425/lego/623d3ba6e34211edbea000163e323d80.png', 'share_img': 'https://vipcdn.mgtv.com/lego/20230425/lego/64e16120e34211edbea000163e323d80.png', 'description': '', 'note': '', 'info': '1', 'is_vote': 0, 'user_vote_num': 0}, {'char_id': 2577, 'char_name': '卢靖姗', 'photo': 'https://vipcdn.mgtv.com/lego/20230421/lego/9bea6ad2e01711eda96500163e030d98.png', 'icon': '', 'fans_num': 0, 'vote_num': 789193, 'position': 14, 'video_url': '', 'video_img': 'https://vipcdn.mgtv.com/lego/20230421/lego/994606c4e01711edb6e800163e323d80.png', 'share_img': 'https://vipcdn.mgtv.com/lego/20230421/lego/9e735c46e01711edb6e800163e323d80.png', 'description': '', 'note': '', 'info': '1', 'is_vote': 0, 'user_vote_num': 0}, {'char_id': 2581, 'char_name': '刘雅瑟', 'photo': 'https://vipcdn.mgtv.com/lego/20230421/lego/8ebcd9e4e01711ed820600163e323d80.png', 'icon': '', 'fans_num': 0, 'vote_num': 601949, 'position': 18, 'video_url': '', 'video_img': 'https://vipcdn.mgtv.com/lego/20230421/lego/8ac45db2e01711ed9c8b00163e030d98.png', 'share_img': 'https://vipcdn.mgtv.com/lego/20230421/lego/928359eae01711eda96500163e030d98.png', 'description': '', 'note': '', 'info': '1', 'is_vote': 0, 'user_vote_num': 0}, {'char_id': 2575, 'char_name': '李彩桦', 'photo': 'https://vipcdn.mgtv.com/lego/20230421/lego/05f7de3ce01811edae2e00163e030d98.png', 'icon': '', 'fans_num': 0, 'vote_num': 384903, 'position': 12, 'video_url': '', 'video_img': 'https://vipcdn.mgtv.com/lego/20230421/lego/03b488dce01811ed8b9100163e323d80.png', 'share_img': 'https://vipcdn.mgtv.com/lego/20230421/lego/084a977ee01811edae2e00163e030d98.png', 'description': '', 'note': '', 'info': '1', 'is_vote': 0, 'user_vote_num': 0}, {'char_id': 2597, 'char_name': '许靖韵', 'photo': 'https://vipcdn.mgtv.com/lego/20230421/lego/76570086e01811ed9dc500163e323d80.png', 'icon': '', 'fans_num': 0, 'vote_num': 308584, 'position': 29, 'video_url': '', 'video_img': 'https://vipcdn.mgtv.com/lego/20230421/lego/6e464e88e01811ed869f00163e030d98.png', 'share_img': 'https://vipcdn.mgtv.com/lego/20230421/lego/79245e62e01811ed869f00163e030d98.png', 'description': '', 'note': '', 'info': '1', 'is_vote': 0, 'user_vote_num': 0}]}}\n"
     ]
    }
   ],
   "source": [
    "base_url, params = cf['base_url'], cf['params']\n",
    "url = base_url + urlencode(params)\n",
    "res = requests.get(url)\n",
    "print(res.json())"
   ],
   "metadata": {
    "collapsed": false
   }
  },
  {
   "cell_type": "code",
   "execution_count": 16,
   "outputs": [
    {
     "name": "stdout",
     "output_type": "stream",
     "text": [
      "https://vipact.api.mgtv.com/api/v1/act/vote/charlist?ticket=75CABB60712F32F18EA5A910400B77A4&act_name=20230414cf2023&count=50&invoker=mobile-zhifubao&_dx_seq_id=6d93ac64-2f2d-ce45-b08a-8128ea244cd4\n"
     ]
    }
   ],
   "source": [
    "print(res.url)"
   ],
   "metadata": {
    "collapsed": false
   }
  },
  {
   "cell_type": "code",
   "execution_count": 17,
   "outputs": [
    {
     "data": {
      "text/plain": "200"
     },
     "execution_count": 17,
     "metadata": {},
     "output_type": "execute_result"
    }
   ],
   "source": [
    "res.status_code"
   ],
   "metadata": {
    "collapsed": false
   }
  },
  {
   "cell_type": "code",
   "execution_count": 18,
   "outputs": [
    {
     "name": "stdout",
     "output_type": "stream",
     "text": [
      "['ret', 'errno', 'data']\n"
     ]
    }
   ],
   "source": [
    "# 返回的数据的建\n",
    "print(list(res.json()))"
   ],
   "metadata": {
    "collapsed": false
   }
  },
  {
   "cell_type": "code",
   "execution_count": 19,
   "outputs": [
    {
     "name": "stdout",
     "output_type": "stream",
     "text": [
      "['character_list']\n"
     ]
    }
   ],
   "source": [
    "print(list(res.json()['data']))"
   ],
   "metadata": {
    "collapsed": false
   }
  },
  {
   "cell_type": "code",
   "execution_count": 20,
   "outputs": [
    {
     "name": "stdout",
     "output_type": "stream",
     "text": [
      "33\n",
      "<class 'list'>\n"
     ]
    }
   ],
   "source": [
    "character_list = res.json()['data']['character_list']\n",
    "print(len(character_list))\n",
    "print(type(character_list))"
   ],
   "metadata": {
    "collapsed": false
   }
  },
  {
   "cell_type": "code",
   "execution_count": 21,
   "outputs": [
    {
     "name": "stdout",
     "output_type": "stream",
     "text": [
      "{'char_id': 2586, 'char_name': '美依礼芽', 'vote_num': 69686095}\n",
      "{'char_id': 2570, 'char_name': '谢娜', 'vote_num': 11620445}\n",
      "{'char_id': 2569, 'char_name': '徐怀钰', 'vote_num': 9905087}\n",
      "{'char_id': 2572, 'char_name': 'Ella陈嘉桦', 'vote_num': 7953921}\n",
      "{'char_id': 2580, 'char_name': '刘惜君', 'vote_num': 6170603}\n",
      "{'char_id': 2587, 'char_name': 'Amber刘逸云', 'vote_num': 5064739}\n",
      "{'char_id': 2568, 'char_name': '龚琳娜', 'vote_num': 4459182}\n",
      "{'char_id': 2598, 'char_name': '曾可妮', 'vote_num': 4227173}\n",
      "{'char_id': 2571, 'char_name': '秋瓷炫', 'vote_num': 4183319}\n",
      "{'char_id': 2601, 'char_name': '吉娜·爱丽丝', 'vote_num': 3169576}\n",
      "{'char_id': 2583, 'char_name': '陈冰', 'vote_num': 2639766}\n",
      "{'char_id': 2582, 'char_name': '凯丽', 'vote_num': 2620292}\n",
      "{'char_id': 2564, 'char_name': '孙悦', 'vote_num': 2357175}\n",
      "{'char_id': 2573, 'char_name': '陈意涵', 'vote_num': 2111012}\n",
      "{'char_id': 2579, 'char_name': '张嘉倪', 'vote_num': 1791018}\n",
      "{'char_id': 2585, 'char_name': '赵丽娜', 'vote_num': 1645335}\n",
      "{'char_id': 2595, 'char_name': '王佳宇', 'vote_num': 1637245}\n",
      "{'char_id': 2596, 'char_name': '吴优', 'vote_num': 1610260}\n",
      "{'char_id': 2574, 'char_name': 'A-Lin黄丽玲', 'vote_num': 1459672}\n",
      "{'char_id': 2576, 'char_name': '朱珠', 'vote_num': 1356819}\n",
      "{'char_id': 2600, 'char_name': '李莎旻子', 'vote_num': 1291730}\n",
      "{'char_id': 2563, 'char_name': '瞿颖', 'vote_num': 1250676}\n",
      "{'char_id': 2599, 'char_name': 'Chi Pu芝芙', 'vote_num': 1228309}\n",
      "{'char_id': 2593, 'char_name': '吴倩', 'vote_num': 1185951}\n",
      "{'char_id': 2594, 'char_name': '汪小敏', 'vote_num': 1180347}\n",
      "{'char_id': 2562, 'char_name': '贾静雯', 'vote_num': 1169568}\n",
      "{'char_id': 2561, 'char_name': '蔡少芬', 'vote_num': 1145208}\n",
      "{'char_id': 2578, 'char_name': '谢欣', 'vote_num': 1071861}\n",
      "{'char_id': 2584, 'char_name': '唐伯虎', 'vote_num': 807964}\n",
      "{'char_id': 2577, 'char_name': '卢靖姗', 'vote_num': 789193}\n",
      "{'char_id': 2581, 'char_name': '刘雅瑟', 'vote_num': 601949}\n",
      "{'char_id': 2575, 'char_name': '李彩桦', 'vote_num': 384903}\n",
      "{'char_id': 2597, 'char_name': '许靖韵', 'vote_num': 308584}\n"
     ]
    }
   ],
   "source": [
    "column_names=['char_id', 'char_name', 'vote_num']\n",
    "filename='./data/test.csv'\n",
    "create_csv(filename, column_names=column_names)\n",
    "for each in character_list:\n",
    "    vote_data = {\n",
    "        'char_id': each['char_id'],\n",
    "        'char_name': each['char_name'],\n",
    "        'vote_num': each['vote_num'],\n",
    "    }\n",
    "    print(vote_data)\n",
    "    add_dict_rows(filename, vote_data, column_names)"
   ],
   "metadata": {
    "collapsed": false
   }
  },
  {
   "cell_type": "code",
   "execution_count": 22,
   "outputs": [],
   "source": [
    "# 创建空表测试, 如果表存在则覆盖\n"
   ],
   "metadata": {
    "collapsed": false
   }
  },
  {
   "cell_type": "code",
   "execution_count": 22,
   "outputs": [],
   "source": [
    "\n"
   ],
   "metadata": {
    "collapsed": false
   }
  }
 ],
 "metadata": {
  "kernelspec": {
   "display_name": "Python 3",
   "language": "python",
   "name": "python3"
  },
  "language_info": {
   "codemirror_mode": {
    "name": "ipython",
    "version": 2
   },
   "file_extension": ".py",
   "mimetype": "text/x-python",
   "name": "python",
   "nbconvert_exporter": "python",
   "pygments_lexer": "ipython2",
   "version": "2.7.6"
  }
 },
 "nbformat": 4,
 "nbformat_minor": 0
}
