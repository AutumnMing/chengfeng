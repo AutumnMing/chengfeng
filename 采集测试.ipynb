{
 "cells": [
  {
   "cell_type": "code",
   "execution_count": 9,
   "metadata": {
    "collapsed": true
   },
   "outputs": [],
   "source": [
    "import requests\n",
    "from urllib.parse import urlencode\n",
    "from operate_data import create_csv, add_dict_rows\n",
    "import time"
   ]
  },
  {
   "cell_type": "code",
   "execution_count": 2,
   "outputs": [
    {
     "name": "stdout",
     "output_type": "stream",
     "text": [
      "{'ret': 0, 'errno': 0, 'data': {'character_list': [{'char_id': 2586, 'char_name': '美依礼芽', 'photo': 'https://vipcdn.mgtv.com/lego/20230421/lego/5ac9892ee01811ed876300163e323d80.png', 'icon': '', 'fans_num': 0, 'vote_num': 40736767, 'position': 23, 'video_url': '', 'video_img': 'https://vipcdn.mgtv.com/lego/20230421/lego/57d371dae01811ed869f00163e030d98.png', 'share_img': 'https://vipcdn.mgtv.com/lego/20230421/lego/5d8647ece01811ed869f00163e030d98.png', 'description': '', 'note': '', 'info': '1', 'is_vote': 1, 'user_vote_num': 99}, {'char_id': 2570, 'char_name': '谢娜', 'photo': 'https://vipcdn.mgtv.com/lego/20230421/lego/7f25288ce01811eda6f500163e030d98.png', 'icon': '', 'fans_num': 0, 'vote_num': 9145364, 'position': 8, 'video_url': '', 'video_img': 'https://vipcdn.mgtv.com/lego/20230421/lego/7d168036e01811edbe8d00163e323d80.png', 'share_img': 'https://vipcdn.mgtv.com/lego/20230421/lego/80ebb0d2e01811edbe8d00163e323d80.png', 'description': '', 'note': '', 'info': '1', 'is_vote': 0, 'user_vote_num': 0}, {'char_id': 2572, 'char_name': 'Ella陈嘉桦', 'photo': 'https://vipcdn.mgtv.com/lego/20230421/lego/63201148e01711ed83a000163e323d80.png', 'icon': '', 'fans_num': 0, 'vote_num': 7378157, 'position': 9, 'video_url': '', 'video_img': 'https://vipcdn.mgtv.com/lego/20230421/lego/6086303ee01711eda96500163e030d98.png', 'share_img': 'https://vipcdn.mgtv.com/lego/20230421/lego/65a03876e01711eda96500163e030d98.png', 'description': '', 'note': '', 'info': '1', 'is_vote': 0, 'user_vote_num': 0}, {'char_id': 2580, 'char_name': '刘惜君', 'photo': 'https://vipcdn.mgtv.com/lego/20230421/lego/808d74aae01711ed820600163e323d80.png', 'icon': '', 'fans_num': 0, 'vote_num': 4640376, 'position': 17, 'video_url': '', 'video_img': 'https://vipcdn.mgtv.com/lego/20230421/lego/7d428bb4e01711ed9c8b00163e030d98.png', 'share_img': 'https://vipcdn.mgtv.com/lego/20230421/lego/84fe01dae01711ed820600163e323d80.png', 'description': '', 'note': '', 'info': '1', 'is_vote': 0, 'user_vote_num': 0}, {'char_id': 2569, 'char_name': '徐怀钰', 'photo': 'https://vipcdn.mgtv.com/lego/20230420/lego/481374d4df6911edaaa400163e323d80.png', 'icon': '', 'fans_num': 0, 'vote_num': 4639401, 'position': 6, 'video_url': '', 'video_img': 'https://vipcdn.mgtv.com/lego/20230420/lego/45a3a93adf6911ed941500163e030d98.png', 'share_img': 'https://vipcdn.mgtv.com/lego/20230420/lego/4ac0198adf6911ed8ed500163e030d98.png', 'description': '', 'note': '', 'info': '1', 'is_vote': 0, 'user_vote_num': 0}, {'char_id': 2571, 'char_name': '秋瓷炫', 'photo': 'https://vipcdn.mgtv.com/lego/20230421/lego/5099daeee01811ed869f00163e030d98.png', 'icon': '', 'fans_num': 0, 'vote_num': 3931377, 'position': 7, 'video_url': '', 'video_img': 'https://vipcdn.mgtv.com/lego/20230421/lego/4ead594ae01811ed876300163e323d80.png', 'share_img': 'https://vipcdn.mgtv.com/lego/20230421/lego/52848d2ce01811ed876300163e323d80.png', 'description': '', 'note': '', 'info': '1', 'is_vote': 0, 'user_vote_num': 0}, {'char_id': 2598, 'char_name': '曾可妮', 'photo': 'https://vipcdn.mgtv.com/lego/20230421/lego/f1646ef4e01711ed9e4000163e030d98.png', 'icon': '', 'fans_num': 0, 'vote_num': 3784306, 'position': 30, 'video_url': '', 'video_img': 'https://vipcdn.mgtv.com/lego/20230421/lego/ef3fcacee01711edbc3c00163e323d80.png', 'share_img': 'https://vipcdn.mgtv.com/lego/20230421/lego/f3ce89eae01711ed8b9100163e323d80.png', 'description': '', 'note': '', 'info': '1', 'is_vote': 0, 'user_vote_num': 0}, {'char_id': 2587, 'char_name': 'Amber刘逸云', 'photo': 'https://vipcdn.mgtv.com/lego/20230421/lego/3c0e9980e01711ed870000163e030d98.png', 'icon': '', 'fans_num': 0, 'vote_num': 3445393, 'position': 24, 'video_url': '', 'video_img': 'https://vipcdn.mgtv.com/lego/20230421/lego/36f32f1ae01711edaf3200163e323d80.png', 'share_img': 'https://vipcdn.mgtv.com/lego/20230421/lego/400ed55ee01711edaf3200163e323d80.png', 'description': '', 'note': '', 'info': '1', 'is_vote': 0, 'user_vote_num': 0}, {'char_id': 2583, 'char_name': '陈冰', 'photo': 'https://vipcdn.mgtv.com/lego/20230421/lego/ac7b90e6e01811ed9dc500163e323d80.png', 'icon': '', 'fans_num': 0, 'vote_num': 2602425, 'position': 20, 'video_url': '', 'video_img': 'https://vipcdn.mgtv.com/lego/20230421/lego/a9c105e8e01811ed9ccb00163e030d98.png', 'share_img': 'https://vipcdn.mgtv.com/lego/20230421/lego/af8d4e46e01811edb77800163e030d98.png', 'description': '', 'note': '', 'info': '1', 'is_vote': 0, 'user_vote_num': 0}, {'char_id': 2582, 'char_name': '凯丽', 'photo': 'https://vipcdn.mgtv.com/lego/20230421/lego/72aee648e01711ed9c8b00163e030d98.png', 'icon': '', 'fans_num': 0, 'vote_num': 2554745, 'position': 19, 'video_url': '', 'video_img': 'https://vipcdn.mgtv.com/lego/20230421/lego/6e0bdee8e01711ed83a000163e323d80.png', 'share_img': 'https://vipcdn.mgtv.com/lego/20230421/lego/759f4b54e01711ed83a000163e323d80.png', 'description': '', 'note': '', 'info': '1', 'is_vote': 0, 'user_vote_num': 0}, {'char_id': 2568, 'char_name': '龚琳娜', 'photo': 'https://vipcdn.mgtv.com/lego/20230421/lego/c1f13994e01811ed867800163e030d98.png', 'icon': '', 'fans_num': 0, 'vote_num': 2327229, 'position': 5, 'video_url': '', 'video_img': 'https://vipcdn.mgtv.com/lego/20230421/lego/c02b6d96e01811ed838300163e323d80.png', 'share_img': 'https://vipcdn.mgtv.com/lego/20230421/lego/c3e940d4e01811ed838300163e323d80.png', 'description': '', 'note': '', 'info': '1', 'is_vote': 0, 'user_vote_num': 0}, {'char_id': 2564, 'char_name': '孙悦', 'photo': 'https://vipcdn.mgtv.com/lego/20230421/lego/d98db77ce01711ed979500163e323d80.png', 'icon': '', 'fans_num': 0, 'vote_num': 2300125, 'position': 2, 'video_url': '', 'video_img': 'https://vipcdn.mgtv.com/lego/20230421/lego/d7663ed8e01711edae2e00163e030d98.png', 'share_img': 'https://vipcdn.mgtv.com/lego/20230421/lego/db957f0ae01711edae2e00163e030d98.png', 'description': '', 'note': '', 'info': '1', 'is_vote': 0, 'user_vote_num': 0}, {'char_id': 2579, 'char_name': '张嘉倪', 'photo': 'https://vipcdn.mgtv.com/lego/20230421/lego/e2efdb6ae01711ed9e4000163e030d98.png', 'icon': '', 'fans_num': 0, 'vote_num': 1643737, 'position': 16, 'video_url': '', 'video_img': 'https://vipcdn.mgtv.com/lego/20230421/lego/e00f36dee01711ed979500163e323d80.png', 'share_img': 'https://vipcdn.mgtv.com/lego/20230421/lego/e54f06f6e01711edbc3c00163e323d80.png', 'description': '', 'note': '', 'info': '1', 'is_vote': 0, 'user_vote_num': 0}, {'char_id': 2595, 'char_name': '王佳宇', 'photo': 'https://vipcdn.mgtv.com/lego/20230421/lego/40d6c2e8e01811eda37400163e323d80.png', 'icon': '', 'fans_num': 0, 'vote_num': 1609538, 'position': 27, 'video_url': '', 'video_img': 'https://vipcdn.mgtv.com/lego/20230421/lego/3dae55fee01811ed8f8e00163e030d98.png', 'share_img': 'https://vipcdn.mgtv.com/lego/20230421/lego/43367b00e01811ed8f8e00163e030d98.png', 'description': '', 'note': '', 'info': '1', 'is_vote': 0, 'user_vote_num': 0}, {'char_id': 2574, 'char_name': 'A-Lin黄丽玲', 'photo': 'https://vipcdn.mgtv.com/lego/20230425/lego/38fd82b4e34211edb31900163e030d98.png', 'icon': '', 'fans_num': 0, 'vote_num': 1299704, 'position': 11, 'video_url': '', 'video_img': 'https://vipcdn.mgtv.com/lego/20230425/lego/3777d1b0e34211eda30400163e323d80.png', 'share_img': 'https://vipcdn.mgtv.com/lego/20230425/lego/3a6aa97ee34211edb8d200163e323d80.png', 'description': '', 'note': '', 'info': '1', 'is_vote': 0, 'user_vote_num': 0}, {'char_id': 2601, 'char_name': '吉娜·爱丽丝', 'photo': 'https://vipcdn.mgtv.com/lego/20230425/lego/5265ef02e34211ed957900163e323d80.png', 'icon': '', 'fans_num': 0, 'vote_num': 1215118, 'position': 33, 'video_url': '', 'video_img': 'https://vipcdn.mgtv.com/lego/20230425/lego/5125eadee34211ed90ec00163e030d98.png', 'share_img': 'https://vipcdn.mgtv.com/lego/20230425/lego/5414ee16e34211ed90ec00163e030d98.png', 'description': '', 'note': '', 'info': '1', 'is_vote': 0, 'user_vote_num': 0}, {'char_id': 2573, 'char_name': '陈意涵', 'photo': 'https://vipcdn.mgtv.com/lego/20230421/lego/b682992ce01811edac9900163e030d98.png', 'icon': '', 'fans_num': 0, 'vote_num': 1070374, 'position': 10, 'video_url': '', 'video_img': 'https://vipcdn.mgtv.com/lego/20230421/lego/b430aa1ae01811edac9900163e030d98.png', 'share_img': 'https://vipcdn.mgtv.com/lego/20230421/lego/bb5dbe5ee01811edac9900163e030d98.png', 'description': '', 'note': '', 'info': '1', 'is_vote': 0, 'user_vote_num': 0}, {'char_id': 2596, 'char_name': '吴优', 'photo': 'https://vipcdn.mgtv.com/lego/20230421/lego/b6ca9886e01711edb8bd00163e030d98.png', 'icon': '', 'fans_num': 0, 'vote_num': 1060063, 'position': 28, 'video_url': '', 'video_img': 'https://vipcdn.mgtv.com/lego/20230421/lego/b3de5428e01711edb6e800163e323d80.png', 'share_img': 'https://vipcdn.mgtv.com/lego/20230421/lego/b9867d4ce01711edb6e800163e323d80.png', 'description': '', 'note': '', 'info': '1', 'is_vote': 0, 'user_vote_num': 0}, {'char_id': 2594, 'char_name': '汪小敏', 'photo': 'https://vipcdn.mgtv.com/lego/20230421/lego/22442618e01811eda37400163e323d80.png', 'icon': '', 'fans_num': 0, 'vote_num': 1047706, 'position': 26, 'video_url': '', 'video_img': 'https://vipcdn.mgtv.com/lego/20230421/lego/1f23f030e01811edae2e00163e030d98.png', 'share_img': 'https://vipcdn.mgtv.com/lego/20230421/lego/24aa4a0ee01811ed8f8e00163e030d98.png', 'description': '', 'note': '', 'info': '1', 'is_vote': 0, 'user_vote_num': 0}, {'char_id': 2576, 'char_name': '朱珠', 'photo': 'https://vipcdn.mgtv.com/lego/20230421/lego/faf2724ae01711ed8b9100163e323d80.png', 'icon': '', 'fans_num': 0, 'vote_num': 1013715, 'position': 13, 'video_url': '', 'video_img': 'https://vipcdn.mgtv.com/lego/20230421/lego/f881d1e0e01711ed9e4000163e030d98.png', 'share_img': 'https://vipcdn.mgtv.com/lego/20230421/lego/fd6829cae01711ed939c00163e030d98.png', 'description': '', 'note': '', 'info': '1', 'is_vote': 0, 'user_vote_num': 0}, {'char_id': 2593, 'char_name': '吴倩', 'photo': 'https://vipcdn.mgtv.com/lego/20230421/lego/c1fed37ae01711ed979500163e323d80.png', 'icon': '', 'fans_num': 0, 'vote_num': 867486, 'position': 25, 'video_url': '', 'video_img': 'https://vipcdn.mgtv.com/lego/20230421/lego/bf375c66e01711edb8bd00163e030d98.png', 'share_img': 'https://vipcdn.mgtv.com/lego/20230421/lego/c4beaae0e01711edb8bd00163e030d98.png', 'description': '', 'note': '', 'info': '1', 'is_vote': 0, 'user_vote_num': 0}, {'char_id': 2563, 'char_name': '瞿颖', 'photo': 'https://vipcdn.mgtv.com/lego/20230421/lego/48fb28ece01811ed8f8e00163e030d98.png', 'icon': '', 'fans_num': 0, 'vote_num': 851927, 'position': 1, 'video_url': '', 'video_img': 'https://vipcdn.mgtv.com/lego/20230421/lego/473dddb0e01811eda37400163e323d80.png', 'share_img': 'https://vipcdn.mgtv.com/lego/20230421/lego/4acf347ee01811ed876300163e323d80.png', 'description': '', 'note': '', 'info': '1', 'is_vote': 0, 'user_vote_num': 0}, {'char_id': 2578, 'char_name': '谢欣', 'photo': 'https://vipcdn.mgtv.com/lego/20230421/lego/874e19cee01811edbe8d00163e323d80.png', 'icon': '', 'fans_num': 0, 'vote_num': 807913, 'position': 15, 'video_url': '', 'video_img': 'https://vipcdn.mgtv.com/lego/20230421/lego/84d58632e01811eda6f500163e030d98.png', 'share_img': 'https://vipcdn.mgtv.com/lego/20230421/lego/8abf2d14e01811ed888f00163e030d98.png', 'description': '', 'note': '', 'info': '1', 'is_vote': 0, 'user_vote_num': 0}, {'char_id': 2599, 'char_name': 'Chi Pu芝芙', 'photo': 'https://vipcdn.mgtv.com/lego/20230425/lego/5cbd0d14e34211edbea000163e323d80.png', 'icon': '', 'fans_num': 0, 'vote_num': 743602, 'position': 31, 'video_url': '', 'video_img': 'https://vipcdn.mgtv.com/lego/20230425/lego/5b6c9a24e34211ed90ec00163e030d98.png', 'share_img': 'https://vipcdn.mgtv.com/lego/20230425/lego/5f062844e34211ed90ec00163e030d98.png', 'description': '', 'note': '', 'info': '1', 'is_vote': 0, 'user_vote_num': 0}, {'char_id': 2585, 'char_name': '赵丽娜', 'photo': 'https://vipcdn.mgtv.com/lego/20230421/lego/9a90e714e01811ed9dc500163e323d80.png', 'icon': '', 'fans_num': 0, 'vote_num': 732066, 'position': 22, 'video_url': '', 'video_img': 'https://vipcdn.mgtv.com/lego/20230421/lego/97f920dee01811eda38b00163e030d98.png', 'share_img': 'https://vipcdn.mgtv.com/lego/20230421/lego/9d928bc0e01811eda38b00163e030d98.png', 'description': '', 'note': '', 'info': '1', 'is_vote': 0, 'user_vote_num': 0}, {'char_id': 2600, 'char_name': '李莎旻子', 'photo': 'https://vipcdn.mgtv.com/lego/20230425/lego/58779256e34211ed90ec00163e030d98.png', 'icon': '', 'fans_num': 0, 'vote_num': 701356, 'position': 32, 'video_url': '', 'video_img': 'https://vipcdn.mgtv.com/lego/20230425/lego/56352dbee34211ed957900163e323d80.png', 'share_img': 'https://vipcdn.mgtv.com/lego/20230425/lego/59f6ac8ee34211edbea000163e323d80.png', 'description': '', 'note': '', 'info': '1', 'is_vote': 0, 'user_vote_num': 0}, {'char_id': 2561, 'char_name': '蔡少芬', 'photo': 'https://vipcdn.mgtv.com/lego/20230421/lego/647e558ae01811ed869f00163e030d98.png', 'icon': '', 'fans_num': 0, 'vote_num': 543547, 'position': 3, 'video_url': '', 'video_img': 'https://vipcdn.mgtv.com/lego/20230421/lego/628927c8e01811ed9dc500163e323d80.png', 'share_img': 'https://vipcdn.mgtv.com/lego/20230421/lego/66940b26e01811ed952e00163e323d80.png', 'description': '', 'note': '', 'info': '1', 'is_vote': 0, 'user_vote_num': 0}, {'char_id': 2562, 'char_name': '贾静雯', 'photo': 'https://vipcdn.mgtv.com/lego/20230421/lego/91ce3546e01811edb4af00163e030d98.png', 'icon': '', 'fans_num': 0, 'vote_num': 529663, 'position': 4, 'video_url': '', 'video_img': 'https://vipcdn.mgtv.com/lego/20230421/lego/8fffbca8e01811ed9dc500163e323d80.png', 'share_img': 'https://vipcdn.mgtv.com/lego/20230421/lego/9389e236e01811edbe8d00163e323d80.png', 'description': '', 'note': '', 'info': '1', 'is_vote': 0, 'user_vote_num': 0}, {'char_id': 2584, 'char_name': '唐伯虎', 'photo': 'https://vipcdn.mgtv.com/lego/20230425/lego/63956230e34211ed90ec00163e030d98.png', 'icon': '', 'fans_num': 0, 'vote_num': 487321, 'position': 21, 'video_url': '', 'video_img': 'https://vipcdn.mgtv.com/lego/20230425/lego/623d3ba6e34211edbea000163e323d80.png', 'share_img': 'https://vipcdn.mgtv.com/lego/20230425/lego/64e16120e34211edbea000163e323d80.png', 'description': '', 'note': '', 'info': '1', 'is_vote': 0, 'user_vote_num': 0}, {'char_id': 2577, 'char_name': '卢靖姗', 'photo': 'https://vipcdn.mgtv.com/lego/20230421/lego/9bea6ad2e01711eda96500163e030d98.png', 'icon': '', 'fans_num': 0, 'vote_num': 394169, 'position': 14, 'video_url': '', 'video_img': 'https://vipcdn.mgtv.com/lego/20230421/lego/994606c4e01711edb6e800163e323d80.png', 'share_img': 'https://vipcdn.mgtv.com/lego/20230421/lego/9e735c46e01711edb6e800163e323d80.png', 'description': '', 'note': '', 'info': '1', 'is_vote': 0, 'user_vote_num': 0}, {'char_id': 2581, 'char_name': '刘雅瑟', 'photo': 'https://vipcdn.mgtv.com/lego/20230421/lego/8ebcd9e4e01711ed820600163e323d80.png', 'icon': '', 'fans_num': 0, 'vote_num': 391487, 'position': 18, 'video_url': '', 'video_img': 'https://vipcdn.mgtv.com/lego/20230421/lego/8ac45db2e01711ed9c8b00163e030d98.png', 'share_img': 'https://vipcdn.mgtv.com/lego/20230421/lego/928359eae01711eda96500163e030d98.png', 'description': '', 'note': '', 'info': '1', 'is_vote': 0, 'user_vote_num': 0}, {'char_id': 2575, 'char_name': '李彩桦', 'photo': 'https://vipcdn.mgtv.com/lego/20230421/lego/05f7de3ce01811edae2e00163e030d98.png', 'icon': '', 'fans_num': 0, 'vote_num': 257044, 'position': 12, 'video_url': '', 'video_img': 'https://vipcdn.mgtv.com/lego/20230421/lego/03b488dce01811ed8b9100163e323d80.png', 'share_img': 'https://vipcdn.mgtv.com/lego/20230421/lego/084a977ee01811edae2e00163e030d98.png', 'description': '', 'note': '', 'info': '1', 'is_vote': 0, 'user_vote_num': 0}, {'char_id': 2597, 'char_name': '许靖韵', 'photo': 'https://vipcdn.mgtv.com/lego/20230421/lego/76570086e01811ed9dc500163e323d80.png', 'icon': '', 'fans_num': 0, 'vote_num': 211668, 'position': 29, 'video_url': '', 'video_img': 'https://vipcdn.mgtv.com/lego/20230421/lego/6e464e88e01811ed869f00163e030d98.png', 'share_img': 'https://vipcdn.mgtv.com/lego/20230421/lego/79245e62e01811ed869f00163e030d98.png', 'description': '', 'note': '', 'info': '1', 'is_vote': 0, 'user_vote_num': 0}]}}\n"
     ]
    }
   ],
   "source": [
    "url = base_url + urlencode(params)\n",
    "res = requests.get(url, params=params)\n",
    "print(res.json())"
   ],
   "metadata": {
    "collapsed": false
   }
  },
  {
   "cell_type": "code",
   "execution_count": 7,
   "outputs": [
    {
     "name": "stdout",
     "output_type": "stream",
     "text": [
      "https://vipact.api.mgtv.com/api/v1/act/vote/charlist?ticket=75CABB60712F32F18EA5A910400B77A4&act_name=20230414cf2023&count=50&invoker=mobile-zhifubao&_dx_seq_id=6d93ac64-2f2d-ce45-b08a-8128ea244cd4&v=v4&ticket=75CABB60712F32F18EA5A910400B77A4&act_name=20230414cf2023&count=50&invoker=mobile-zhifubao&_dx_seq_id=6d93ac64-2f2d-ce45-b08a-8128ea244cd4&v=v4\n"
     ]
    }
   ],
   "source": [
    "print(res.url)"
   ],
   "metadata": {
    "collapsed": false
   }
  },
  {
   "cell_type": "code",
   "execution_count": 3,
   "outputs": [
    {
     "name": "stdout",
     "output_type": "stream",
     "text": [
      "['ret', 'errno', 'data']\n"
     ]
    }
   ],
   "source": [
    "# 返回的数据的建\n",
    "print(list(res.json()))"
   ],
   "metadata": {
    "collapsed": false
   }
  },
  {
   "cell_type": "code",
   "execution_count": 4,
   "outputs": [
    {
     "name": "stdout",
     "output_type": "stream",
     "text": [
      "['character_list']\n"
     ]
    }
   ],
   "source": [
    "print(list(res.json()['data']))"
   ],
   "metadata": {
    "collapsed": false
   }
  },
  {
   "cell_type": "code",
   "execution_count": 5,
   "outputs": [
    {
     "name": "stdout",
     "output_type": "stream",
     "text": [
      "33\n",
      "<class 'list'>\n"
     ]
    }
   ],
   "source": [
    "character_list = res.json()['data']['character_list']\n",
    "print(len(character_list))\n",
    "print(type(character_list))"
   ],
   "metadata": {
    "collapsed": false
   }
  },
  {
   "cell_type": "code",
   "execution_count": 8,
   "outputs": [
    {
     "name": "stdout",
     "output_type": "stream",
     "text": [
      "{'char_id': 2586, 'char_name': '美依礼芽', 'vote_num': 40736767}\n",
      "{'char_id': 2570, 'char_name': '谢娜', 'vote_num': 9145364}\n",
      "{'char_id': 2572, 'char_name': 'Ella陈嘉桦', 'vote_num': 7378157}\n",
      "{'char_id': 2580, 'char_name': '刘惜君', 'vote_num': 4640376}\n",
      "{'char_id': 2569, 'char_name': '徐怀钰', 'vote_num': 4639401}\n",
      "{'char_id': 2571, 'char_name': '秋瓷炫', 'vote_num': 3931377}\n",
      "{'char_id': 2598, 'char_name': '曾可妮', 'vote_num': 3784306}\n",
      "{'char_id': 2587, 'char_name': 'Amber刘逸云', 'vote_num': 3445393}\n",
      "{'char_id': 2583, 'char_name': '陈冰', 'vote_num': 2602425}\n",
      "{'char_id': 2582, 'char_name': '凯丽', 'vote_num': 2554745}\n",
      "{'char_id': 2568, 'char_name': '龚琳娜', 'vote_num': 2327229}\n",
      "{'char_id': 2564, 'char_name': '孙悦', 'vote_num': 2300125}\n",
      "{'char_id': 2579, 'char_name': '张嘉倪', 'vote_num': 1643737}\n",
      "{'char_id': 2595, 'char_name': '王佳宇', 'vote_num': 1609538}\n",
      "{'char_id': 2574, 'char_name': 'A-Lin黄丽玲', 'vote_num': 1299704}\n",
      "{'char_id': 2601, 'char_name': '吉娜·爱丽丝', 'vote_num': 1215118}\n",
      "{'char_id': 2573, 'char_name': '陈意涵', 'vote_num': 1070374}\n",
      "{'char_id': 2596, 'char_name': '吴优', 'vote_num': 1060063}\n",
      "{'char_id': 2594, 'char_name': '汪小敏', 'vote_num': 1047706}\n",
      "{'char_id': 2576, 'char_name': '朱珠', 'vote_num': 1013715}\n",
      "{'char_id': 2593, 'char_name': '吴倩', 'vote_num': 867486}\n",
      "{'char_id': 2563, 'char_name': '瞿颖', 'vote_num': 851927}\n",
      "{'char_id': 2578, 'char_name': '谢欣', 'vote_num': 807913}\n",
      "{'char_id': 2599, 'char_name': 'Chi Pu芝芙', 'vote_num': 743602}\n",
      "{'char_id': 2585, 'char_name': '赵丽娜', 'vote_num': 732066}\n",
      "{'char_id': 2600, 'char_name': '李莎旻子', 'vote_num': 701356}\n",
      "{'char_id': 2561, 'char_name': '蔡少芬', 'vote_num': 543547}\n",
      "{'char_id': 2562, 'char_name': '贾静雯', 'vote_num': 529663}\n",
      "{'char_id': 2584, 'char_name': '唐伯虎', 'vote_num': 487321}\n",
      "{'char_id': 2577, 'char_name': '卢靖姗', 'vote_num': 394169}\n",
      "{'char_id': 2581, 'char_name': '刘雅瑟', 'vote_num': 391487}\n",
      "{'char_id': 2575, 'char_name': '李彩桦', 'vote_num': 257044}\n",
      "{'char_id': 2597, 'char_name': '许靖韵', 'vote_num': 211668}\n"
     ]
    }
   ],
   "source": [
    "for each in character_list:\n",
    "    vote_data = {\n",
    "        'char_id': each['char_id'],\n",
    "        'char_name': each['char_name'],\n",
    "        'vote_num': each['vote_num'],\n",
    "    }\n",
    "    print(vote_data)"
   ],
   "metadata": {
    "collapsed": false
   }
  },
  {
   "cell_type": "code",
   "execution_count": 10,
   "outputs": [],
   "source": [
    "# 创建空表测试, 如果表存在则覆盖\n"
   ],
   "metadata": {
    "collapsed": false
   }
  },
  {
   "cell_type": "code",
   "execution_count": null,
   "outputs": [],
   "source": [
    "\n"
   ],
   "metadata": {
    "collapsed": false
   }
  }
 ],
 "metadata": {
  "kernelspec": {
   "display_name": "Python 3",
   "language": "python",
   "name": "python3"
  },
  "language_info": {
   "codemirror_mode": {
    "name": "ipython",
    "version": 2
   },
   "file_extension": ".py",
   "mimetype": "text/x-python",
   "name": "python",
   "nbconvert_exporter": "python",
   "pygments_lexer": "ipython2",
   "version": "2.7.6"
  }
 },
 "nbformat": 4,
 "nbformat_minor": 0
}
